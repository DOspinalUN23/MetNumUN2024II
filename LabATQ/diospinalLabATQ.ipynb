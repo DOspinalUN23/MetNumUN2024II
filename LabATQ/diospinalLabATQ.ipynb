{
  "nbformat": 4,
  "nbformat_minor": 0,
  "metadata": {
    "colab": {
      "provenance": [],
      "authorship_tag": "ABX9TyOHgbjbaxOVtkC9UwJMJtVX",
      "include_colab_link": true
    },
    "kernelspec": {
      "name": "python3",
      "display_name": "Python 3"
    },
    "language_info": {
      "name": "python"
    }
  },
  "cells": [
    {
      "cell_type": "markdown",
      "metadata": {
        "id": "view-in-github",
        "colab_type": "text"
      },
      "source": [
        "<a href=\"https://colab.research.google.com/github/DOspinalUN23/MetNumUN2024II/blob/main/LabATQ/diospinalLabATQ.ipynb\" target=\"_parent\"><img src=\"https://colab.research.google.com/assets/colab-badge.svg\" alt=\"Open In Colab\"/></a>"
      ]
    },
    {
      "cell_type": "markdown",
      "source": [
        "# LAB ATQ – Algorithmic Trading with Quantiacs\n",
        "\n",
        "En el laboratorio se utilizó modelos de Machine Learning para predecir el precio de ciertas acciones dentro del S&P 500, y de acuerdo a eso comprar, vender, o no hacer nada"
      ],
      "metadata": {
        "id": "Aws0PDvmOjTF"
      }
    },
    {
      "cell_type": "markdown",
      "source": [
        "## Modificaciones\n",
        "1. The Machine Learning technique: \\\n",
        "Se cambio de Linear Regression a Random Forest Regressor."
      ],
      "metadata": {
        "id": "48n8ONs9O4ru"
      }
    },
    {
      "cell_type": "code",
      "execution_count": null,
      "metadata": {
        "id": "e-YRMicQEfMF"
      },
      "outputs": [],
      "source": [
        "def get_model():\n",
        "    \"\"\"This is a constructor for the ML model (Random Forest) which can be easily\n",
        "       modified for using different models.\n",
        "    \"\"\"\n",
        "\n",
        "    # Usando Random Forest Regressor\n",
        "    model = RandomForestRegressor(n_estimators=100, random_state=42)\n",
        "    return model"
      ]
    },
    {
      "cell_type": "markdown",
      "source": [
        "2. The market and assets: \\\n",
        "Se cambio de NASDAQ a S&P 500 y se incluyeron 37 assets.\n",
        "\n"
      ],
      "metadata": {
        "id": "HSikTQ24PPyb"
      }
    },
    {
      "cell_type": "code",
      "source": [
        "# loading S&P 500 stock data\n",
        "assets=[\n",
        "    'NAS:ACGL', 'NAS:ADBE', 'NAS:ADI', 'NAS:ADP', 'NAS:ADSK', 'NAS:AMAT', 'NAS:AMD',\n",
        "    'NAS:AMGN', 'NAS:AMZN', 'NAS:ANSS', 'NAS:AAPL', 'NAS:AVGO', 'NAS:BKR', 'NAS:BKNG',\n",
        "    'NAS:CERN', 'NAS:COST', 'NAS:DTV', 'NAS:FOX', 'NAS:GOOG', 'NAS:GOOGL', 'NAS:JAVA',\n",
        "    'NAS:LOGI', 'NAS:MELI', 'NAS:NFLX', 'NAS:QCOM', 'NAS:TEAM', 'NAS:TMUS', 'NAS:TSLA',\n",
        "    'NAS:UAL', 'NYS:BSX', 'NYS:BWA', 'NYS:BX', 'NYS:DELL', 'NYS:MET', 'NYS:MGM', 'NYS:UBER',\n",
        "    'NYS:UDR'\n",
        "]\n",
        "\n",
        "stock_data = qndata.stocks.load_spx_data(tail = 365 * 5, assets = assets)"
      ],
      "metadata": {
        "id": "3mYf58ChO4WE"
      },
      "execution_count": null,
      "outputs": []
    },
    {
      "cell_type": "markdown",
      "source": [
        "3. The variables: \\\n",
        "Se incluyeron las variables OBV (On-Balance Volume) y EMA (Exponential Moving Average).\n",
        "\n"
      ],
      "metadata": {
        "id": "Hc7mW6jmPWBr"
      }
    },
    {
      "cell_type": "code",
      "source": [
        "def get_features(data):\n",
        "    \"\"\"Builds the features used for learning:\n",
        "       * a trend indicator;\n",
        "       * the moving average convergence divergence;\n",
        "       * a volatility measure;\n",
        "       * the stochastic oscillator;\n",
        "       * the relative strength index;\n",
        "       * the logarithm of the closing price.\n",
        "       These features can be modified and new ones can be added easily.\n",
        "    \"\"\"\n",
        "\n",
        "    # trend:\n",
        "    trend = qnta.roc(qnta.lwma(data.sel(field=\"close\"), 60), 1)\n",
        "    # trend = trend.assign_coords(field=\"trend\")\n",
        "\n",
        "    # moving average convergence  divergence (MACD):\n",
        "    macd = qnta.macd(data.sel(field=\"close\"))\n",
        "    macd2_line, macd2_signal, macd2_hist = qnta.macd(data, 12, 26, 9)\n",
        "    # macd2_signal = macd2_signal.assign_coords(field=\"macd\")\n",
        "\n",
        "    # volatility:\n",
        "    volatility = qnta.tr(data.sel(field=\"high\"), data.sel(field=\"low\"), data.sel(field=\"close\"))\n",
        "    volatility = volatility / data.sel(field=\"close\")\n",
        "    volatility = qnta.lwma(volatility, 14)\n",
        "    # volatility = volatility.assign_coords(field=\"volatility\")\n",
        "\n",
        "    # the stochastic oscillator:\n",
        "    k, d = qnta.stochastic(data.sel(field=\"high\"), data.sel(field=\"low\"), data.sel(field=\"close\"), 14)\n",
        "    # d = d.assign_coords(field=\"stochastic_d\")\n",
        "\n",
        "    # the relative strength index:\n",
        "    rsi = qnta.rsi(data.sel(field=\"close\"))\n",
        "    # rsi = rsi.assign_coords(field=\"rsi\")\n",
        "\n",
        "    # the logarithm of the closing price:\n",
        "    price = data.sel(field=\"close\").ffill(\"time\").bfill(\"time\").fillna(0) # fill NaN\n",
        "    price = np.log(price)\n",
        "    # price = price.assign_coords(field=\"price\")\n",
        "\n",
        "    ## New features ##\n",
        "    ema = qnta.ema(data.sel(field=\"close\"), 20)\n",
        "    # ema = ema.assign_coords(field=\"ema\")\n",
        "\n",
        "    obv = qnta.obv(data.sel(field=\"close\"), data.sel(field=\"vol\"))\n",
        "    # obv = obv.assign_coords(field=\"obv\")\n",
        "\n",
        "    # combine the six features:\n",
        "    result = xr.concat(\n",
        "        [trend, macd2_signal.sel(field=\"close\"), volatility,  d, rsi, price, obv, ema],\n",
        "        pd.Index(\n",
        "            [\"trend\",  \"macd\", \"volatility\", \"stochastic_d\", \"rsi\", \"price\", \"obv\", \"ema\"],\n",
        "            name = \"field\"\n",
        "        )\n",
        "    )\n",
        "\n",
        "    return result.transpose(\"time\", \"field\", \"asset\")"
      ],
      "metadata": {
        "id": "qbhguO3fPkl-"
      },
      "execution_count": null,
      "outputs": []
    },
    {
      "cell_type": "markdown",
      "source": [
        "4. The targets: \\\n",
        "Se modifico para que ahora también venda acciones, cuando el precio sube un 10% se compra, cuando baja un 10% vende, y cuando el cambio no es mayor a un 10%, no se vende ni se compra\n"
      ],
      "metadata": {
        "id": "oM_fVzRyPk79"
      }
    },
    {
      "cell_type": "code",
      "source": [
        "def get_target_classes(data):\n",
        "    \"\"\"Clases objetivo para predecir si el precio sube, baja o se mantiene dentro de un rango de 5%\"\"\"\n",
        "\n",
        "    price_current = data.sel(field=\"close\")\n",
        "    price_future  = qnta.shift(price_current, -1)\n",
        "\n",
        "    # Calculamos el cambio porcentual en el precio\n",
        "    change = (price_future - price_current) / price_current\n",
        "\n",
        "    class_positive = 1  # Subida\n",
        "    class_neutral = 0   # No hay cambio significativo (subida o bajada)\n",
        "    class_negative = -1 # Bajada\n",
        "\n",
        "    # Creamos la variable objetivo\n",
        "    target_price = xr.where(change > 0.1, class_positive, xr.where(change < -0.1, class_negative, class_neutral))\n",
        "\n",
        "    return target_price"
      ],
      "metadata": {
        "id": "jJ2Kdl5APm4x"
      },
      "execution_count": null,
      "outputs": []
    },
    {
      "cell_type": "markdown",
      "source": [
        "5. Liquid assets: \\\n",
        "Se realizo una verificación para que utilice solo assets liquidos"
      ],
      "metadata": {
        "id": "PBeWaTg3PnH-"
      }
    },
    {
      "cell_type": "code",
      "source": [
        "is_liquid = stock_data.sel(field=\"is_liquid\")\n",
        "weights = weights * is_liquid\n",
        "weights = qnout.clean(weights, stock_data, \"stocks_s&p500\")"
      ],
      "metadata": {
        "id": "qmgjefOHPrju"
      },
      "execution_count": null,
      "outputs": []
    }
  ]
}