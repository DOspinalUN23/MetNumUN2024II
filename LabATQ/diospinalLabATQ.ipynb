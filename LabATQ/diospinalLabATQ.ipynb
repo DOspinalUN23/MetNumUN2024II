{
  "nbformat": 4,
  "nbformat_minor": 0,
  "metadata": {
    "colab": {
      "provenance": [],
      "authorship_tag": "ABX9TyOuA2rc5DxK2Sqg7lmSmVlv",
      "include_colab_link": true
    },
    "kernelspec": {
      "name": "python3",
      "display_name": "Python 3"
    },
    "language_info": {
      "name": "python"
    }
  },
  "cells": [
    {
      "cell_type": "markdown",
      "metadata": {
        "id": "view-in-github",
        "colab_type": "text"
      },
      "source": [
        "<a href=\"https://colab.research.google.com/github/DOspinalUN23/MetNumUN2024II/blob/main/LabATQ/diospinalLabATQ.ipynb\" target=\"_parent\"><img src=\"https://colab.research.google.com/assets/colab-badge.svg\" alt=\"Open In Colab\"/></a>"
      ]
    },
    {
      "cell_type": "markdown",
      "source": [
        "# LAB ATQ – Algorithmic Trading with Quantiacs\n",
        "\n",
        "En el laboratorio se utilizó modelos de Machine Learning para predecir el precio de ciertas acciones dentro del S&P 500, y de acuerdo a eso comprar, vender, o no hacer nada"
      ],
      "metadata": {
        "id": "Aws0PDvmOjTF"
      }
    },
    {
      "cell_type": "markdown",
      "source": [
        "## Modificaciones\n",
        "1. The Machine Learning technique: \\\n",
        "Se cambio de Linear Regression a Gradient Boosting Regressor."
      ],
      "metadata": {
        "id": "48n8ONs9O4ru"
      }
    },
    {
      "cell_type": "code",
      "execution_count": null,
      "metadata": {
        "id": "e-YRMicQEfMF"
      },
      "outputs": [],
      "source": [
        "def get_model():\n",
        "    \"\"\"Constructor del modelo de Gradient Boosting\"\"\"\n",
        "    model = GradientBoostingRegressor(n_estimators=100, learning_rate=0.1, max_depth=3, random_state=42)\n",
        "    return model"
      ]
    },
    {
      "cell_type": "markdown",
      "source": [
        "2. The market and assets: \\\n",
        "Se cambio de NASDAQ a S&P 500 y se incluyeron 37 assets.\n",
        "\n"
      ],
      "metadata": {
        "id": "HSikTQ24PPyb"
      }
    },
    {
      "cell_type": "code",
      "source": [
        "# loading S&P 500 stock data\n",
        "assets=[\n",
        "    'NAS:ACGL', 'NAS:ADBE', 'NAS:ADI', 'NAS:ADP', 'NAS:ADSK', 'NAS:AMAT', 'NAS:AMD',\n",
        "    'NAS:AMGN', 'NAS:AMZN', 'NAS:ANSS', 'NAS:AAPL', 'NAS:AVGO', 'NAS:BKR', 'NAS:BKNG',\n",
        "    'NAS:CERN', 'NAS:COST', 'NAS:DTV', 'NAS:FOX', 'NAS:GOOG', 'NAS:GOOGL', 'NAS:JAVA',\n",
        "    'NAS:LOGI', 'NAS:MELI', 'NAS:NFLX', 'NAS:QCOM', 'NAS:TEAM', 'NAS:TMUS', 'NAS:TSLA',\n",
        "    'NAS:UAL', 'NYS:BSX', 'NYS:BWA', 'NYS:BX', 'NYS:DELL', 'NYS:MET', 'NYS:MGM', 'NYS:UBER',\n",
        "    'NYS:UDR'\n",
        "]\n",
        "\n",
        "stock_data = qndata.stocks.load_spx_data(tail = 365 * 5, assets = assets)"
      ],
      "metadata": {
        "id": "3mYf58ChO4WE"
      },
      "execution_count": null,
      "outputs": []
    },
    {
      "cell_type": "markdown",
      "source": [
        "3. The variables: \\\n",
        "Se incluyeron las variables OBV (On-Balance Volume) y EMA (Exponential Moving Average).\n",
        "\n"
      ],
      "metadata": {
        "id": "Hc7mW6jmPWBr"
      }
    },
    {
      "cell_type": "code",
      "source": [
        "def get_features(data):\n",
        "    \"\"\"Builds the features used for learning:\n",
        "       * a trend indicator;\n",
        "       * the moving average convergence divergence;\n",
        "       * a volatility measure;\n",
        "       * the stochastic oscillator;\n",
        "       * the relative strength index;\n",
        "       * the logarithm of the closing price.\n",
        "       These features can be modified and new ones can be added easily.\n",
        "    \"\"\"\n",
        "\n",
        "    # trend:\n",
        "    trend = qnta.roc(qnta.lwma(data.sel(field=\"close\"), 60), 1)\n",
        "    # trend = trend.assign_coords(field=\"trend\")\n",
        "\n",
        "    # moving average convergence  divergence (MACD):\n",
        "    macd = qnta.macd(data.sel(field=\"close\"))\n",
        "    macd2_line, macd2_signal, macd2_hist = qnta.macd(data, 12, 26, 9)\n",
        "    # macd2_signal = macd2_signal.assign_coords(field=\"macd\")\n",
        "\n",
        "    # volatility:\n",
        "    volatility = qnta.tr(data.sel(field=\"high\"), data.sel(field=\"low\"), data.sel(field=\"close\"))\n",
        "    volatility = volatility / data.sel(field=\"close\")\n",
        "    volatility = qnta.lwma(volatility, 14)\n",
        "    # volatility = volatility.assign_coords(field=\"volatility\")\n",
        "\n",
        "    # the stochastic oscillator:\n",
        "    k, d = qnta.stochastic(data.sel(field=\"high\"), data.sel(field=\"low\"), data.sel(field=\"close\"), 14)\n",
        "    # d = d.assign_coords(field=\"stochastic_d\")\n",
        "\n",
        "    # the relative strength index:\n",
        "    rsi = qnta.rsi(data.sel(field=\"close\"))\n",
        "    # rsi = rsi.assign_coords(field=\"rsi\")\n",
        "\n",
        "    # the logarithm of the closing price:\n",
        "    price = data.sel(field=\"close\").ffill(\"time\").bfill(\"time\").fillna(0) # fill NaN\n",
        "    price = np.log(price)\n",
        "    # price = price.assign_coords(field=\"price\")\n",
        "\n",
        "    ## New features ##\n",
        "    ema = qnta.ema(data.sel(field=\"close\"), 20)\n",
        "    # ema = ema.assign_coords(field=\"ema\")\n",
        "\n",
        "    obv = qnta.obv(data.sel(field=\"close\"), data.sel(field=\"vol\"))\n",
        "    # obv = obv.assign_coords(field=\"obv\")\n",
        "\n",
        "    # combine the six features:\n",
        "    result = xr.concat(\n",
        "        [trend, macd2_signal.sel(field=\"close\"), volatility,  d, rsi, price, obv, ema],\n",
        "        pd.Index(\n",
        "            [\"trend\",  \"macd\", \"volatility\", \"stochastic_d\", \"rsi\", \"price\", \"obv\", \"ema\"],\n",
        "            name = \"field\"\n",
        "        )\n",
        "    )\n",
        "\n",
        "    return result.transpose(\"time\", \"field\", \"asset\")"
      ],
      "metadata": {
        "id": "qbhguO3fPkl-"
      },
      "execution_count": null,
      "outputs": []
    },
    {
      "cell_type": "markdown",
      "source": [
        "4. The targets: \\\n",
        "Se modifico para que ahora también venda acciones, cuando el precio sube un 11% se compra, cuando baja un 11% vende, y cuando el cambio no es mayor a un 11%, no se vende ni se compra\n"
      ],
      "metadata": {
        "id": "oM_fVzRyPk79"
      }
    },
    {
      "cell_type": "code",
      "source": [
        "def get_target_classes(data):\n",
        "    \"\"\"Clases objetivo para predecir si el precio sube, baja o se mantiene dentro de un rango de 5%\"\"\"\n",
        "\n",
        "    price_current = data.sel(field=\"close\")\n",
        "    price_future  = qnta.shift(price_current, -1)\n",
        "\n",
        "    # Calculamos el cambio porcentual en el precio\n",
        "    change = (price_future - price_current) / price_current\n",
        "\n",
        "    class_positive = 1  # Subida\n",
        "    class_neutral = 0   # No hay cambio significativo (subida o bajada)\n",
        "    class_negative = -1 # Bajada\n",
        "\n",
        "    # Creamos la variable objetivo\n",
        "    target_price = xr.where(change > 0.11, class_positive, xr.where(change < -0.11, class_negative, class_neutral))\n",
        "\n",
        "    return target_price"
      ],
      "metadata": {
        "id": "jJ2Kdl5APm4x"
      },
      "execution_count": null,
      "outputs": []
    },
    {
      "cell_type": "markdown",
      "source": [
        "5. Liquid assets: \\\n",
        "Se realizo una verificación para que utilice solo assets liquidos"
      ],
      "metadata": {
        "id": "PBeWaTg3PnH-"
      }
    },
    {
      "cell_type": "code",
      "source": [
        "is_liquid = stock_data.sel(field=\"is_liquid\")\n",
        "weights = weights * is_liquid\n",
        "weights = qnout.clean(weights, stock_data, \"stocks_s&p500\")"
      ],
      "metadata": {
        "id": "qmgjefOHPrju"
      },
      "execution_count": null,
      "outputs": []
    },
    {
      "cell_type": "markdown",
      "source": [],
      "metadata": {
        "id": "ufVd-jFnScSq"
      }
    },
    {
      "cell_type": "markdown",
      "source": [
        "## Resultado\n",
        "Con estas modificaciones, se obtuvo el siguiente resultado"
      ],
      "metadata": {
        "id": "yFKIXUiARii6"
      }
    },
    {
      "cell_type": "markdown",
      "source": [
        "![newplot.png](data:image/png;base64,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)"
      ],
      "metadata": {
        "id": "sLT6nrSNRrOm"
      }
    },
    {
      "cell_type": "markdown",
      "source": [
        "![image.png](data:image/png;base64,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)"
      ],
      "metadata": {
        "id": "ptR9yMcuS6sj"
      }
    }
  ]
}