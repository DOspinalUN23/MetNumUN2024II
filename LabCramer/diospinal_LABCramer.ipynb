{
  "nbformat": 4,
  "nbformat_minor": 0,
  "metadata": {
    "colab": {
      "provenance": [],
      "include_colab_link": true
    },
    "kernelspec": {
      "name": "python3",
      "display_name": "Python 3"
    },
    "language_info": {
      "name": "python"
    }
  },
  "cells": [
    {
      "cell_type": "markdown",
      "metadata": {
        "id": "view-in-github",
        "colab_type": "text"
      },
      "source": [
        "<a href=\"https://colab.research.google.com/github/DOspinalUN23/MetNumUN2024II/blob/main/LabCramer/diospinal_LABCramer.ipynb\" target=\"_parent\"><img src=\"https://colab.research.google.com/assets/colab-badge.svg\" alt=\"Open In Colab\"/></a>"
      ]
    },
    {
      "cell_type": "markdown",
      "source": [
        "### Cramer by hand\n",
        "\n",
        "$$A = \\left[\n",
        "  \\begin{array}{cc}\n",
        "1 & 2\\\\\n",
        "3 & 4\n",
        "\\end{array}\n",
        "\\right],  \n",
        "b= \\left[\n",
        "\\begin{array}{c}\n",
        "5\\\\\n",
        "6\n",
        "\\end{array}\n",
        "\\right]\n",
        "$$\n",
        "$$\n",
        "Ax =B\n",
        "$$\n",
        "$$  \n",
        "\\left[\n",
        "  \\begin{array}{cc}\n",
        "1 & 2\\\\\n",
        "3 & 4\n",
        "\\end{array}\n",
        "\\right]\n",
        "\\left[\n",
        "\\begin{array}{c}\n",
        "x_1\\\\\n",
        "x_2\n",
        "\\end{array}\n",
        "\\right]  \n",
        "=\n",
        "\\left[\n",
        "\\begin{array}{c}\n",
        "5\\\\\n",
        "6\n",
        "\\end{array}\n",
        "\\right]\n",
        "$$\n",
        "\n",
        "$$Det\\ A =  (1 * 4) - (3 * 2)  = 4 - 6 = -2$$\n",
        "\n",
        "$$A_1 = \\left[\n",
        "  \\begin{array}{cc}\n",
        "5 & 2\\\\\n",
        "6 & 4\n",
        "\\end{array}\n",
        "\\right]\n",
        "$$\n",
        "\n",
        "$$Det\\ A_1 = (5 * 4) - (6 * 2) = 20 - 12 =  8$$\n",
        "\n",
        "$$x_1 =  \\frac{Det\\ A_1}{Det\\ A}= \\frac{8}{-2} =  -4$$\n",
        "\n",
        "$$A_2 = \\left[\n",
        "  \\begin{array}{cc}\n",
        "1 & 5\\\\\n",
        "3 & 6\n",
        "\\end{array}\n",
        "\\right]\n",
        "$$\n",
        "\n",
        "$$Det\\ A_2 = (1*6) - (3*5)  = 6 -15 = -9$$\n",
        "\n",
        "$$x_2 = \\frac{Det\\ A_2}{Det\\ A}= \\frac{-9}{-2} =  \\frac{9}{2}$$"
      ],
      "metadata": {
        "id": "SUmNm2PmfHU7"
      }
    },
    {
      "cell_type": "markdown",
      "source": [
        "- ***Adding a single digit to any number requires about 7.30 bits of processing.*** - World Mental Calculation: News and Resources for Competitive and Advanced Mental Calculation https://worldmentalcalculation.com/2019/06/30/fastest-possible-processing-speed-of-the-human-brain/\n",
        "\n",
        "- ***The human brain can process 11 million bits of information every second. But our conscious minds can handle only 40 to 50 bits of information a second.*** - Understanding Unconscious Bias https://www.npr.org/2020/07/14/891140598/understanding-unconscious-bias\n",
        "\n",
        "- ***A new way to analyze human reaction times shows that the brain processes data no faster than 60 bits per second.***- New Measure of Human Brain Processing Speed https://www.technologyreview.com/2009/08/25/210267/new-measure-of-human-brain-processing-speed/\n",
        "\n",
        "\n"
      ],
      "metadata": {
        "id": "3rH8z64pk2XV"
      }
    },
    {
      "cell_type": "markdown",
      "source": [
        "# Number of operations to compute a determinant by cofactor expasion\n",
        "- Cofactor expansion https://people.math.carleton.ca/~kcheung/math/notes/MATH1107/07/07_cofactor_expansion.html\n",
        "## Definition of A(i∣j)\n",
        "Let $A$ be an $n\\times n$ matrix. Let $i,j \\in \\{1,…,n\\}$. We define $A(i∣j)$  to be the matrix obtained from $A$ by removing row $i$ and column $j$ from $A$.\n",
        "\n",
        "## Cofactor formula\n",
        "One way of computing the determinant of an $n\\times n$  matrix\n",
        "\n",
        "$$A = \\left[\n",
        "  \\begin{array}{cccc}\n",
        "a_{11} & a_{12} & \\cdots & a_{1n}\\\\\n",
        "a_{21} & a_{22} & \\cdots & a_{2n}\\\\\n",
        "\\vdots  & \\vdots & \\ddots & \\vdots\\\\\n",
        "a_{n1} & a_{n2} & \\cdots & a_{nn}\\\\\n",
        "\\end{array}\n",
        "\\right]\n",
        "$$\n",
        "is to use the following formula called the cofactor formula.\n",
        "\n",
        "Pick either any $i\\ \\in \\{1,…,n\\}$ (fixed row) or $i\\ \\in \\{1,…,n\\}$ (fixed column). Then\n",
        "\n",
        "$$\\det(A)  = \\sum_{j=1}^n (-1)^{i+j}a_{ij} \\det(A(i∣j)) $$\n",
        "\n",
        "\n",
        "$C_{i,j}= (-1)^{i+j}a_{ij} \\det(A(i∣j))$ is called a cofactor of $A$.\n",
        "\n",
        "$$\\det(A)  = \\sum_{j=1}^n C_{i,j} $$\n",
        "\n"
      ],
      "metadata": {
        "id": "CgrSIpDOnaGQ"
      }
    },
    {
      "cell_type": "code",
      "source": [
        "# Code from https://stackoverflow.com/questions/16510111/computing-determinant-of-a-matrix-nxn-recursively\n",
        "\n",
        "import numpy as np\n",
        "\n",
        "def smaller_matrix(original_matrix,row, column):\n",
        "    for ii in range(len(original_matrix)):\n",
        "        new_matrix=np.delete(original_matrix,ii,0)\n",
        "        new_matrix=np.delete(new_matrix,column,1)\n",
        "        return new_matrix\n",
        "\n",
        "\n",
        "def determinant(matrix):\n",
        "    \"\"\"Returns a determinant of a matrix by recursive method.\"\"\"\n",
        "    (r,c) = matrix.shape\n",
        "    if r != c:\n",
        "        print(\"Error!Not a square matrix!\")\n",
        "        return None\n",
        "    elif r==2:\n",
        "        simple_determinant = matrix[0][0]*matrix[1][1]-matrix[0][1]*matrix[1][0]\n",
        "        return simple_determinant\n",
        "    else:\n",
        "        answer=0\n",
        "        for j in range(r):\n",
        "            cofactor = (-1)**(0+j) * matrix[0][j] * determinant(smaller_matrix(matrix, 0, j))\n",
        "            answer+= cofactor\n",
        "        return answer"
      ],
      "metadata": {
        "id": "J-joKRBhC7eF"
      },
      "execution_count": 1,
      "outputs": []
    },
    {
      "cell_type": "code",
      "source": [
        "#test the function\n",
        "#Only works for numpy.array input\n",
        "np.random.seed(1)"
      ],
      "metadata": {
        "id": "Il2pcRD4DptG"
      },
      "execution_count": 2,
      "outputs": []
    },
    {
      "cell_type": "code",
      "source": [
        "n = 2\n",
        "matrix=np.random.randint(-5,5,size=(n,n))\n",
        "matrix"
      ],
      "metadata": {
        "colab": {
          "base_uri": "https://localhost:8080/"
        },
        "id": "AgKC1-aiFRW2",
        "outputId": "79e8d454-9dec-475f-f2fe-9d91e144d864"
      },
      "execution_count": 3,
      "outputs": [
        {
          "output_type": "execute_result",
          "data": {
            "text/plain": [
              "array([[0, 3],\n",
              "       [4, 0]])"
            ]
          },
          "metadata": {},
          "execution_count": 3
        }
      ]
    },
    {
      "cell_type": "code",
      "source": [
        "determinant(matrix)"
      ],
      "metadata": {
        "colab": {
          "base_uri": "https://localhost:8080/"
        },
        "outputId": "11c5c8e7-9dce-449e-9a7c-cddc02ce23cc",
        "id": "oI0rUp-SDptH"
      },
      "execution_count": 4,
      "outputs": [
        {
          "output_type": "execute_result",
          "data": {
            "text/plain": [
              "-12"
            ]
          },
          "metadata": {},
          "execution_count": 4
        }
      ]
    },
    {
      "cell_type": "code",
      "source": [
        "np.linalg.det(matrix)"
      ],
      "metadata": {
        "colab": {
          "base_uri": "https://localhost:8080/"
        },
        "id": "iqZv7iK-KKXH",
        "outputId": "9a9f75e1-1c98-4a2a-910e-36081b191aa0"
      },
      "execution_count": 5,
      "outputs": [
        {
          "output_type": "execute_result",
          "data": {
            "text/plain": [
              "-12.0"
            ]
          },
          "metadata": {},
          "execution_count": 5
        }
      ]
    },
    {
      "cell_type": "code",
      "source": [
        "round(np.linalg.det(matrix))"
      ],
      "metadata": {
        "colab": {
          "base_uri": "https://localhost:8080/"
        },
        "id": "sY21rHM-KdlO",
        "outputId": "1672ae9e-1afa-44af-f399-1b961cbba760"
      },
      "execution_count": 6,
      "outputs": [
        {
          "output_type": "execute_result",
          "data": {
            "text/plain": [
              "-12"
            ]
          },
          "metadata": {},
          "execution_count": 6
        }
      ]
    },
    {
      "cell_type": "code",
      "source": [
        "n = 5\n",
        "matrix=np.diag(np.random.randint(-10,10,size=(n)))\n",
        "matrix"
      ],
      "metadata": {
        "colab": {
          "base_uri": "https://localhost:8080/"
        },
        "id": "-QXGZWFIDs5k",
        "outputId": "769b176f-8f83-48ac-9781-248dbd2663a4"
      },
      "execution_count": 7,
      "outputs": [
        {
          "output_type": "execute_result",
          "data": {
            "text/plain": [
              "array([[  5,   0,   0,   0,   0],\n",
              "       [  0, -10,   0,   0,   0],\n",
              "       [  0,   0,   6,   0,   0],\n",
              "       [  0,   0,   0,  -9,   0],\n",
              "       [  0,   0,   0,   0,   2]])"
            ]
          },
          "metadata": {},
          "execution_count": 7
        }
      ]
    },
    {
      "cell_type": "code",
      "source": [
        "determinant(matrix)"
      ],
      "metadata": {
        "colab": {
          "base_uri": "https://localhost:8080/"
        },
        "id": "VP6hRwhwD-3W",
        "outputId": "1d4a2e0b-8564-47fb-8fde-76963aee47a0"
      },
      "execution_count": 8,
      "outputs": [
        {
          "output_type": "execute_result",
          "data": {
            "text/plain": [
              "5400"
            ]
          },
          "metadata": {},
          "execution_count": 8
        }
      ]
    },
    {
      "cell_type": "code",
      "source": [
        "np.linalg.det(matrix)"
      ],
      "metadata": {
        "colab": {
          "base_uri": "https://localhost:8080/"
        },
        "id": "8NV7Zvp-KtRz",
        "outputId": "3e8777e6-4061-4899-e02f-f783fc33561c"
      },
      "execution_count": 9,
      "outputs": [
        {
          "output_type": "execute_result",
          "data": {
            "text/plain": [
              "5400.000000000003"
            ]
          },
          "metadata": {},
          "execution_count": 9
        }
      ]
    },
    {
      "cell_type": "code",
      "source": [
        "round(np.linalg.det(matrix))"
      ],
      "metadata": {
        "colab": {
          "base_uri": "https://localhost:8080/"
        },
        "id": "HXKK3weLKt5T",
        "outputId": "767774b5-d8d3-47b9-ab40-8ad24f3e7ae7"
      },
      "execution_count": 10,
      "outputs": [
        {
          "output_type": "execute_result",
          "data": {
            "text/plain": [
              "5400"
            ]
          },
          "metadata": {},
          "execution_count": 10
        }
      ]
    },
    {
      "cell_type": "code",
      "source": [
        "# Modified from the previous code\n",
        "import numpy as np\n",
        "\n",
        "# A a squared numpy matrix\n",
        "def det(A):\n",
        "    \"\"\"Returns a determinant of a matrix by recursive method.\"\"\"\n",
        "    (r,c) = A.shape\n",
        "    if r != c:\n",
        "        print(\"Error!Not a square matrix!\")\n",
        "        return None\n",
        "    elif r==1:\n",
        "          # the code with  r==2 is more efficient but we use this\n",
        "         # because the number of operations is easier to compute\n",
        "        return A[0][0]\n",
        "    else:\n",
        "        answer=0\n",
        "        for j in range(r):\n",
        "            s = 1 if (0+j)%2 == 0 else -1\n",
        "            Aij = np.delete(A,0,0)\n",
        "            Aij = np.delete(Aij,j,1)\n",
        "            cofactor = (s) * A[0][j] * det(Aij)\n",
        "            answer+= cofactor\n",
        "        return answer"
      ],
      "metadata": {
        "id": "B258g8lnBgnG"
      },
      "execution_count": 11,
      "outputs": []
    },
    {
      "cell_type": "code",
      "source": [
        "#test the function\n",
        "#Only works for numpy.array input\n",
        "np.random.seed(1)"
      ],
      "metadata": {
        "id": "ZR2mjlqiGdM6"
      },
      "execution_count": 12,
      "outputs": []
    },
    {
      "cell_type": "code",
      "source": [
        "n = 2\n",
        "A=np.random.randint(-5,5,size=(n,n))\n",
        "A"
      ],
      "metadata": {
        "colab": {
          "base_uri": "https://localhost:8080/"
        },
        "outputId": "5b844c2d-78a6-45c7-fe9e-82b9ae572af8",
        "id": "jPpBCFaoGlak"
      },
      "execution_count": 13,
      "outputs": [
        {
          "output_type": "execute_result",
          "data": {
            "text/plain": [
              "array([[0, 3],\n",
              "       [4, 0]])"
            ]
          },
          "metadata": {},
          "execution_count": 13
        }
      ]
    },
    {
      "cell_type": "code",
      "source": [
        "det(A)"
      ],
      "metadata": {
        "colab": {
          "base_uri": "https://localhost:8080/"
        },
        "outputId": "b980ab4c-9c74-4020-a5ca-ffd3813c5054",
        "id": "WKbuirZeGlak"
      },
      "execution_count": 14,
      "outputs": [
        {
          "output_type": "execute_result",
          "data": {
            "text/plain": [
              "-12"
            ]
          },
          "metadata": {},
          "execution_count": 14
        }
      ]
    },
    {
      "cell_type": "code",
      "source": [
        "determinant(A)"
      ],
      "metadata": {
        "colab": {
          "base_uri": "https://localhost:8080/"
        },
        "id": "_B5xBFirTvQm",
        "outputId": "d05d929e-f606-4cae-d1e9-6266401b54f0"
      },
      "execution_count": 15,
      "outputs": [
        {
          "output_type": "execute_result",
          "data": {
            "text/plain": [
              "-12"
            ]
          },
          "metadata": {},
          "execution_count": 15
        }
      ]
    },
    {
      "cell_type": "code",
      "source": [
        "np.linalg.det(A)"
      ],
      "metadata": {
        "colab": {
          "base_uri": "https://localhost:8080/"
        },
        "outputId": "29e208b6-f300-4824-c12c-1612703d8ac5",
        "id": "bRyF2dsFLbXC"
      },
      "execution_count": 16,
      "outputs": [
        {
          "output_type": "execute_result",
          "data": {
            "text/plain": [
              "-12.0"
            ]
          },
          "metadata": {},
          "execution_count": 16
        }
      ]
    },
    {
      "cell_type": "code",
      "source": [
        "round(np.linalg.det(A))"
      ],
      "metadata": {
        "colab": {
          "base_uri": "https://localhost:8080/"
        },
        "outputId": "35987b65-d6cf-46ad-cea2-39109b46238e",
        "id": "sOe1w9FPLbXD"
      },
      "execution_count": 17,
      "outputs": [
        {
          "output_type": "execute_result",
          "data": {
            "text/plain": [
              "-12"
            ]
          },
          "metadata": {},
          "execution_count": 17
        }
      ]
    },
    {
      "cell_type": "code",
      "source": [
        "n = 10\n",
        "\n",
        "A=np.random.randint(-10,10,size=(n,n))\n",
        "\n",
        "A"
      ],
      "metadata": {
        "colab": {
          "base_uri": "https://localhost:8080/"
        },
        "outputId": "2a4c41a5-8748-41c2-f5d3-8e603b899fff",
        "id": "jzFX1soHGlak"
      },
      "execution_count": 18,
      "outputs": [
        {
          "output_type": "execute_result",
          "data": {
            "text/plain": [
              "array([[  5, -10,   6,  -9,   2,  -3,   3,  -4,   8,  -5],\n",
              "       [  8,   1,   0,   4,   8,  -6,  -1,   7, -10,   3],\n",
              "       [ -1,  -1,  -3,  -9, -10,   7,  -2,   3,   9,   5],\n",
              "       [  0,  -2,  -3,  -7,  -4,   7,  -7,  -6,   7,   1],\n",
              "       [  2,   6,   3,   9,  -1,   8,   5, -10,  -6,   5],\n",
              "       [ -8,  -3,  -2,  -1,  -7,  -3,  -6,  -5,   9,  -4],\n",
              "       [ -2, -10,  -8,   0,   5,   5,  -3,   9,   0,   4],\n",
              "       [-10,  -9,   7,   3,  -7, -10,   3,  -4,  -4,  -8],\n",
              "       [  2,   1,  -3,   3,  -2,   1,   2,   1,  -6,  -3],\n",
              "       [ -3,   3,  -6,   6,   8, -10,   3,   0,   7,  -3]])"
            ]
          },
          "metadata": {},
          "execution_count": 18
        }
      ]
    },
    {
      "cell_type": "code",
      "source": [
        "import time\n",
        "\n",
        "start_time = time.time()\n",
        "d = det(A)\n",
        "end_time = time.time()"
      ],
      "metadata": {
        "id": "I97qAqxGGlak"
      },
      "execution_count": 19,
      "outputs": []
    },
    {
      "cell_type": "code",
      "source": [
        "print(\"det(A): \",d)\n",
        "print(\"time: \",end_time - start_time)"
      ],
      "metadata": {
        "colab": {
          "base_uri": "https://localhost:8080/"
        },
        "id": "s7Ud-gBiTD0n",
        "outputId": "22971494-b0ca-451f-a85e-d6d10800e51c"
      },
      "execution_count": 20,
      "outputs": [
        {
          "output_type": "stream",
          "name": "stdout",
          "text": [
            "det(A):  29129065307\n",
            "time:  93.25821542739868\n"
          ]
        }
      ]
    },
    {
      "cell_type": "code",
      "source": [
        "import time\n",
        "\n",
        "start_time = time.time()\n",
        "d = determinant(A)\n",
        "end_time = time.time()"
      ],
      "metadata": {
        "id": "kjLXFQOeTRd2"
      },
      "execution_count": 21,
      "outputs": []
    },
    {
      "cell_type": "code",
      "source": [
        "print(\"determinant(A): \",d)\n",
        "print(\"time: \",end_time - start_time)"
      ],
      "metadata": {
        "colab": {
          "base_uri": "https://localhost:8080/"
        },
        "id": "_TQFWy4ZSiDZ",
        "outputId": "bcc6a24d-fba4-40e5-beb5-d442b476ae0c"
      },
      "execution_count": 22,
      "outputs": [
        {
          "output_type": "stream",
          "name": "stdout",
          "text": [
            "determinant(A):  29129065307\n",
            "time:  28.81448221206665\n"
          ]
        }
      ]
    },
    {
      "cell_type": "code",
      "source": [
        "import time\n",
        "\n",
        "start_time = time.time()\n",
        "d = np.linalg.det(A)\n",
        "end_time = time.time()"
      ],
      "metadata": {
        "id": "jL23i77VT55-"
      },
      "execution_count": 23,
      "outputs": []
    },
    {
      "cell_type": "code",
      "source": [
        "print(\"np.linalg.det(A): \",d)\n",
        "print(\"time: \",end_time - start_time)"
      ],
      "metadata": {
        "colab": {
          "base_uri": "https://localhost:8080/"
        },
        "id": "n94nx14VT5wn",
        "outputId": "e8372731-97ec-4884-b828-bd48e754c7ea"
      },
      "execution_count": 24,
      "outputs": [
        {
          "output_type": "stream",
          "name": "stdout",
          "text": [
            "np.linalg.det(A):  29129065306.99992\n",
            "time:  0.00031757354736328125\n"
          ]
        }
      ]
    },
    {
      "cell_type": "markdown",
      "source": [
        "# Estimating the time by instruction in Python in a Colab machine"
      ],
      "metadata": {
        "id": "Ssedt2z56DNC"
      }
    },
    {
      "cell_type": "code",
      "source": [
        "import numpy as np\n",
        "\n",
        "n = 100\n",
        "\n",
        "A = np.ones((n,n))\n",
        "\n",
        "A"
      ],
      "metadata": {
        "colab": {
          "base_uri": "https://localhost:8080/"
        },
        "id": "1KhlyeNi4uwa",
        "outputId": "f8cd048e-395d-4ff5-8c4e-0007fd3171dd"
      },
      "execution_count": 25,
      "outputs": [
        {
          "output_type": "execute_result",
          "data": {
            "text/plain": [
              "array([[1., 1., 1., ..., 1., 1., 1.],\n",
              "       [1., 1., 1., ..., 1., 1., 1.],\n",
              "       [1., 1., 1., ..., 1., 1., 1.],\n",
              "       ...,\n",
              "       [1., 1., 1., ..., 1., 1., 1.],\n",
              "       [1., 1., 1., ..., 1., 1., 1.],\n",
              "       [1., 1., 1., ..., 1., 1., 1.]])"
            ]
          },
          "metadata": {},
          "execution_count": 25
        }
      ]
    },
    {
      "cell_type": "code",
      "source": [
        "B = np.ones((n,n))\n",
        "\n",
        "B"
      ],
      "metadata": {
        "colab": {
          "base_uri": "https://localhost:8080/"
        },
        "id": "RKtHO3UY5M87",
        "outputId": "5e4ec580-dfe9-478e-c76c-76f1b399903c"
      },
      "execution_count": 26,
      "outputs": [
        {
          "output_type": "execute_result",
          "data": {
            "text/plain": [
              "array([[1., 1., 1., ..., 1., 1., 1.],\n",
              "       [1., 1., 1., ..., 1., 1., 1.],\n",
              "       [1., 1., 1., ..., 1., 1., 1.],\n",
              "       ...,\n",
              "       [1., 1., 1., ..., 1., 1., 1.],\n",
              "       [1., 1., 1., ..., 1., 1., 1.],\n",
              "       [1., 1., 1., ..., 1., 1., 1.]])"
            ]
          },
          "metadata": {},
          "execution_count": 26
        }
      ]
    },
    {
      "cell_type": "code",
      "source": [
        "import time\n",
        "\n",
        "C= np.zeros((n,n))\n",
        "\n",
        "start_time = time.time()\n",
        "for i in range(n):\n",
        "        for j in range(n):\n",
        "            C[i][j] = 0\n",
        "            for k in range(len(A[0])):\n",
        "                C[i][j] += A[i][k] * B[k][j]\n",
        "end_time = time.time()\n",
        "print(end_time - start_time)"
      ],
      "metadata": {
        "colab": {
          "base_uri": "https://localhost:8080/"
        },
        "id": "0UFSLi-F5P0a",
        "outputId": "08083089-3b0a-4776-ab57-d6a9968df7ff"
      },
      "execution_count": 27,
      "outputs": [
        {
          "output_type": "stream",
          "name": "stdout",
          "text": [
            "1.2062184810638428\n"
          ]
        }
      ]
    },
    {
      "cell_type": "code",
      "source": [],
      "metadata": {
        "id": "zQPBTmdMYSqK"
      },
      "execution_count": 27,
      "outputs": []
    },
    {
      "cell_type": "code",
      "source": [
        "C"
      ],
      "metadata": {
        "colab": {
          "base_uri": "https://localhost:8080/"
        },
        "id": "h9zr4Z9P61bs",
        "outputId": "4d96dd73-f0fc-406f-94c7-4e4e217c30f4"
      },
      "execution_count": 28,
      "outputs": [
        {
          "output_type": "execute_result",
          "data": {
            "text/plain": [
              "array([[100., 100., 100., ..., 100., 100., 100.],\n",
              "       [100., 100., 100., ..., 100., 100., 100.],\n",
              "       [100., 100., 100., ..., 100., 100., 100.],\n",
              "       ...,\n",
              "       [100., 100., 100., ..., 100., 100., 100.],\n",
              "       [100., 100., 100., ..., 100., 100., 100.],\n",
              "       [100., 100., 100., ..., 100., 100., 100.]])"
            ]
          },
          "metadata": {},
          "execution_count": 28
        }
      ]
    },
    {
      "cell_type": "code",
      "source": [
        "time_by_oper_python = (end_time - start_time)/(2*n**3 - n**2)\n",
        "\n",
        "time_by_oper_python"
      ],
      "metadata": {
        "colab": {
          "base_uri": "https://localhost:8080/"
        },
        "id": "iEhaMEK77Ko7",
        "outputId": "9acc86a5-2554-4214-aebe-30d03490a76f"
      },
      "execution_count": 29,
      "outputs": [
        {
          "output_type": "execute_result",
          "data": {
            "text/plain": [
              "6.061399402330868e-07"
            ]
          },
          "metadata": {},
          "execution_count": 29
        }
      ]
    },
    {
      "cell_type": "code",
      "source": [
        "import time\n",
        "import numpy as np\n",
        "\n",
        "start_time = time.time()\n",
        "C = A@B\n",
        "end_time = time.time()\n",
        "print(end_time - start_time)"
      ],
      "metadata": {
        "colab": {
          "base_uri": "https://localhost:8080/"
        },
        "id": "TfGsw6UF9o-a",
        "outputId": "b3b91538-d3d1-4036-8591-d20b7c30df10"
      },
      "execution_count": 30,
      "outputs": [
        {
          "output_type": "stream",
          "name": "stdout",
          "text": [
            "0.004520893096923828\n"
          ]
        }
      ]
    },
    {
      "cell_type": "code",
      "source": [
        "C"
      ],
      "metadata": {
        "colab": {
          "base_uri": "https://localhost:8080/"
        },
        "id": "Q5MtZtVT93oQ",
        "outputId": "f87f0a43-f278-4cf0-c552-6fd2a1d09d8d"
      },
      "execution_count": 31,
      "outputs": [
        {
          "output_type": "execute_result",
          "data": {
            "text/plain": [
              "array([[100., 100., 100., ..., 100., 100., 100.],\n",
              "       [100., 100., 100., ..., 100., 100., 100.],\n",
              "       [100., 100., 100., ..., 100., 100., 100.],\n",
              "       ...,\n",
              "       [100., 100., 100., ..., 100., 100., 100.],\n",
              "       [100., 100., 100., ..., 100., 100., 100.],\n",
              "       [100., 100., 100., ..., 100., 100., 100.]])"
            ]
          },
          "metadata": {},
          "execution_count": 31
        }
      ]
    },
    {
      "cell_type": "code",
      "source": [
        "time_by_oper_numpy = (end_time - start_time)/(2*n**3 - n**2)\n",
        "\n",
        "time_by_oper_numpy"
      ],
      "metadata": {
        "colab": {
          "base_uri": "https://localhost:8080/"
        },
        "id": "DTVYQYxT-TsJ",
        "outputId": "3f204c48-0b0a-466d-b8ef-1a874e1ea461"
      },
      "execution_count": 32,
      "outputs": [
        {
          "output_type": "execute_result",
          "data": {
            "text/plain": [
              "2.271805576343632e-09"
            ]
          },
          "metadata": {},
          "execution_count": 32
        }
      ]
    },
    {
      "cell_type": "markdown",
      "source": [
        "# Time estimation for the digital computer computation of a 3 x 3 matrix determinant by cofactor expansion\n",
        "\n",
        "The number of operations $(+,-,*)$ perfomed  *det(A)* algorithm that calculates\n",
        "\n",
        "$$\\det(A)  = \\sum_{j=1}^n (-1)^{i+j}a_{ij} \\det(A(i∣j)) $$\n",
        "\n",
        "is given by\n",
        "\n",
        "$$\\begin{array}{lll}\n",
        "T(n) & =&  nT(n-1) + 5n , T(1) = 1\\\\\n",
        "\\end{array}\n",
        "$$\n",
        "\n",
        "$$\\begin{array}{lll}\n",
        "T(n) & =&  nT(n-1) + 5n\\\\\n",
        "     & =&  n[(n-1) T(n-2) + 5 (n-1) +10] + 5n  \\\\\n",
        "     & =&  n(n-1) T(n-2) + 5 n  (n-1) + 5n \\\\\n",
        "     & =&  n(n-1) [(n-2) T(n-3) + 5 (n-2)] + 5 n(n-1) + 5n\\\\\n",
        "     & = & n(n-1)(n-2) T(n-3) + 5n(n-1)(n-2)+  5 n  (n-1) + 5n \\\\\n",
        "     & \\vdots\\\\\n",
        "     & = &  n(n-1)(n-2)\\cdots (n -(n-2))  T(1) + [5n(n-1)(n-2)(n-3)\\cdots (n -(n-3))] + \\cdots + [5 n (n-1)]+ 5n \\\\\n",
        "    & = & n! + [5n(n-1)(n-2)(n-3)\\cdots 2] + [5n(n-1)(n-2)(n-3)\\cdots 3]+ \\cdots +[5 n (n-1) (n-3)] + [5 n (n-1)]+ 5n  \n",
        "\\end{array}\n",
        "$$\n",
        "\n",
        "$$T(n) = n! + 5 \\sum_{i=0}^{n-1} n!/i! = n! + 5 n!\\sum_{i=0}^{n-1} \\frac{1}{i!} < n! + 5 e n! < 16 n!  $$\n",
        "\n",
        "1. Asumming that an arithmetic operation takes the *time_by_oper_python* estimated before,  what is the maximun square matrix size for which the deteminant can be computed with cofactor extesion in $\\le$ 3 minute. Report the time at [LABCramer](https://docs.google.com/spreadsheets/d/1JNUbuj3QHcyPmp8i6kNreUFucj2mOvKHkCFHHy7zfws/edit?usp=sharing).\n",
        "\n",
        "2. Run an experiment with a random matrix of that size and report the time at [LABCramer](https://docs.google.com/spreadsheets/d/1JNUbuj3QHcyPmp8i6kNreUFucj2mOvKHkCFHHy7zfws/edit?usp=sharing).\n",
        "\n",
        "If the determinant of a $n \\times n$ square matrix takes $16 n!$ operations how much takes the Crammer solution of $n \\times n$ systems of linear equations?\n",
        "\n",
        "\n",
        "\n",
        "\n"
      ],
      "metadata": {
        "id": "PhAai3wzo_Tc"
      }
    },
    {
      "cell_type": "markdown",
      "source": [
        "###Punto 1"
      ],
      "metadata": {
        "id": "ZBq4nl7WC0-h"
      }
    },
    {
      "cell_type": "code",
      "source": [
        "import math\n",
        "\n",
        "# Tiempo por operación estimado previamente (6.16e-07 segundos/operación)\n",
        "time_by_oper_python = 6.160798384316602e-07  # Valor obtenido en el notebook\n",
        "\n",
        "# Tiempo máximo permitido (3 minutos = 180 segundos)\n",
        "max_time = 180\n",
        "\n",
        "# Encontrar el n máximo\n",
        "max_n = 0\n",
        "for n in range(1, 20):  # Rango seguro (el factorial crece exponencialmente)\n",
        "    operations = 16 * math.factorial(n)  # Operaciones aproximadas: T(n) ≈ 16·n!\n",
        "    estimated_time = operations * time_by_oper_python\n",
        "\n",
        "    if estimated_time <= max_time:\n",
        "        max_n = n\n",
        "    else:\n",
        "        break\n",
        "\n",
        "print(f\"Tamaño máximo de matriz (n) para ≤3 minutos: {max_n}\")\n",
        "print(f\"Tiempo estimado para n={max_n}: {16 * math.factorial(max_n) * time_by_oper_python:.2f} segundos\")\n",
        "print(f\"Tiempo estimado para n={max_n + 1}: {16 * math.factorial(max_n + 1) * time_by_oper_python:.2f} segundos\")"
      ],
      "metadata": {
        "colab": {
          "base_uri": "https://localhost:8080/"
        },
        "id": "uCbe_0rCC0a6",
        "outputId": "8e1a94b1-c68f-4467-92c1-4ce3cbca286a"
      },
      "execution_count": 33,
      "outputs": [
        {
          "output_type": "stream",
          "name": "stdout",
          "text": [
            "Tamaño máximo de matriz (n) para ≤3 minutos: 10\n",
            "Tiempo estimado para n=10: 35.77 segundos\n",
            "Tiempo estimado para n=11: 393.47 segundos\n"
          ]
        }
      ]
    },
    {
      "cell_type": "markdown",
      "source": [
        "###Punto 2"
      ],
      "metadata": {
        "id": "kpD2MXB2C1WQ"
      }
    },
    {
      "cell_type": "code",
      "source": [
        "import numpy as np\n",
        "import time\n",
        "\n",
        "# np.random.seed(1)\n",
        "\n",
        "n = 10\n",
        "random_matrix = np.random.randint(-10, 10, size=(n, n))\n",
        "\n",
        "start_time = time.time()\n",
        "det_value = det(random_matrix)\n",
        "end_time = time.time()\n",
        "\n",
        "print(\"Determinante (n=10):\", det_value)\n",
        "print(\"Tiempo:\", round(end_time - start_time, 2), \"segundos\")"
      ],
      "metadata": {
        "id": "IP8mUuHxC1n3"
      },
      "execution_count": null,
      "outputs": []
    },
    {
      "cell_type": "markdown",
      "source": [
        "# Time estimation for the human computer computation of a 3 x 3 matrix determinant by cofactor expansion\n",
        "\n",
        " Write a 3 x 3 matrix with the first element as your list number Mod 10 and the rest row by row 1,2,3,...9 skipimg the first element, by example if youir list number is 12, your list number Mod 10 is 2 and the matrix is\n",
        "$$A = \\left[\n",
        "  \\begin{array}{ccc}\n",
        "2 & 1 & 3\\\\\n",
        "4 & 5 & 6\\\\\n",
        "7 & 8 & 9\\\\\n",
        "\\end{array}\n",
        "\\right]\n",
        "$$\n",
        "Use a chronometer like http://online-stopwatch.chronme.com/ to estimate the time to compute the determinant by using the procedure in the follo wing exmaple (https://people.math.carleton.ca/~kcheung/math/notes/MATH1107/07/07_cofactor_expansion.html):<br />  \n",
        "Let\n",
        "$$A = \\begin{bmatrix} 10 & 2 & 3\\\\ 4 & 5 & 6\\\\ 7 & 8 & 9 \\end{bmatrix}$$\n",
        "we compute $\\det(A)$ by expanding along row $2$ as <br /> <br />\n",
        "$$\\begin{eqnarray} \\det(A) & = & (-1)^{2+1}A_{2,1}\\det(A(2 \\mid 1)) + (-1)^{2+2}A_{2,2}\\det(A(2 \\mid 2)) + (-1)^{2+3}A_{2,3}\\det(A(2 \\mid 3)) \\\\ & = & -4\\left|\\begin{matrix} 2 & 3 \\\\ 8 & 9\\end{matrix}\\right| + 5\\left|\\begin{matrix} 10 & 3 \\\\ 7 & 9\\end{matrix}\\right| - 6\\left|\\begin{matrix} 10 & 2 \\\\ 7 & 8\\end{matrix}\\right| \\\\ & = & -4(2\\cdot 9 - 3\\cdot 8) + 5(10 \\cdot 9- 3\\cdot 7) - 6(10\\cdot 8 - 2 \\cdot 7) \\\\ & = & 24 + 345 - 396 \\\\ & = & -27\\end{eqnarray}$$\n",
        "\n",
        "3. Report the time at [LABCramer](https://docs.google.com/spreadsheets/d/1JNUbuj3QHcyPmp8i6kNreUFucj2mOvKHkCFHHy7zfws/edit?usp=sharing)\n",
        "4. Report the value of the determinant at [LABCramer](https://docs.google.com/spreadsheets/d/1JNUbuj3QHcyPmp8i6kNreUFucj2mOvKHkCFHHy7zfws/edit?usp=sharing)\n",
        "\n",
        "The one grading verifies with with [matrixcalc](https://matrixcalc.org)\n",
        "\n",
        "The number of operations that we as a human requird to caculate this 3x3 matrix determinat using cofactors is 17.\n",
        "- The number of operations to caculate each cofactor is 5:  1 addition (row + column)  + 1 sign verification (if row + column is even positive and negtive otherwise) + 2 multiplications  + 1 substraction.\n",
        "- The number operations to calculate the 3 cofactors is 3x5 = 15.\n",
        "- To add the 3 cofactores we need (2 additions).\n",
        "- So the total is 3x5 + 2  = 17.\n",
        "\n",
        "\n",
        "\n"
      ],
      "metadata": {
        "id": "__brdhGadAXY"
      }
    },
    {
      "cell_type": "markdown",
      "source": [
        "###Punto 3\n",
        "$$33\\ mod\\ 10 \\cong 3$$\n",
        "\n",
        "Matrix:\n",
        "\n",
        "$$A = \\left[\n",
        "  \\begin{array}{ccc}\n",
        "3 & 1 & 2\\\\\n",
        "4 & 5 & 6\\\\\n",
        "7 & 8 & 9\\\\\n",
        "\\end{array}\n",
        "\\right]\n",
        "$$\n",
        "\n",
        "Resolvemos:\n",
        "$$ det(A) = 3 \\cdot \\left[\n",
        "  \\begin{array}{cc}\n",
        "5 & 6\\\\\n",
        "8 & 9\\\\\n",
        "\\end{array}\n",
        "\\right] - 1 \\cdot \\left[\n",
        "  \\begin{array}{cc}\n",
        "4 & 6\\\\\n",
        "7 & 9\\\\\n",
        "\\end{array}\n",
        "\\right] + 2 \\cdot \\left[\n",
        "  \\begin{array}{cc}\n",
        "4 & 5\\\\\n",
        "7 & 8\\\\\n",
        "\\end{array}\n",
        "\\right]\n",
        "$$\n",
        "\n",
        "$$= 3 \\cdot (5 \\cdot 9 - 6 \\cdot 8) - 1 \\cdot (4 \\cdot 9 - 6 \\cdot 7) + 2 \\cdot (4 \\cdot 8 - 5 \\cdot 7)$$\n",
        "$$3 \\cdot (45 - 48) - 1 \\cdot (36 - 42) + 2 \\cdot (32 - 35) = -9$$\n",
        "\n",
        "$$det(A) = -9$$"
      ],
      "metadata": {
        "id": "GvzdITMLColi"
      }
    },
    {
      "cell_type": "markdown",
      "source": [
        "![image.png](data:image/png;base64,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)"
      ],
      "metadata": {
        "id": "jj8GxJjuMyS3"
      }
    }
  ]
}